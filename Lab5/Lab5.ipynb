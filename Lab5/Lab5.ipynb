{
 "cells": [
  {
   "cell_type": "code",
   "execution_count": 51,
   "id": "94e3805d-6aac-48b1-9cf4-3340b6d3dd93",
   "metadata": {},
   "outputs": [],
   "source": [
    "class BSTNode:\n",
    "    def __init__(self, val=None):\n",
    "        self.left = None\n",
    "        self.right = None\n",
    "        self.val = val\n",
    "    def isValidBST(self, root, min_val=float('-inf'), max_val=float('inf')):\n",
    "        if(root is None or self is None):\n",
    "            return True\n",
    "        elif not (min_val < root.val < max_val):\n",
    "            return False\n",
    "        return (self.isValidBST(root.left, min_val, root.val) and\n",
    "                self.isValidBST(root.right, root.val, max_val))\n",
    "    def PrintTree(self):\n",
    "        if self.left:\n",
    "            self.left.PrintTree()\n",
    "        print( self.val),\n",
    "        if self.right:\n",
    "            self.right.PrintTree()"
   ]
  },
  {
   "cell_type": "code",
   "execution_count": 52,
   "id": "76042e4d-e538-4249-b535-daf9ec50bd85",
   "metadata": {},
   "outputs": [
    {
     "name": "stdout",
     "output_type": "stream",
     "text": [
      "1\n",
      "3\n",
      "4\n",
      "5\n",
      "8\n",
      "9\n",
      "True\n"
     ]
    }
   ],
   "source": [
    "root= BSTNode(4)\n",
    "root.left = BSTNode(3)\n",
    "root.left.left = BSTNode(1)\n",
    "root.right = BSTNode(8)\n",
    "root.right.left = BSTNode(5)\n",
    "root.right.right= BSTNode(9)\n",
    "root.PrintTree()\n",
    "print(root.isValidBST(root))"
   ]
  },
  {
   "cell_type": "code",
   "execution_count": 50,
   "id": "3418a576-ae4a-4e12-96fa-e03a0a139a68",
   "metadata": {},
   "outputs": [
    {
     "name": "stdout",
     "output_type": "stream",
     "text": [
      "3\n",
      "2\n",
      "4\n",
      "1\n",
      "5\n",
      "8\n",
      "6\n",
      "False\n"
     ]
    }
   ],
   "source": [
    "self= BSTNode(1)\n",
    "self.left = BSTNode(2)\n",
    "self.left.left = BSTNode(3)\n",
    "self.left.right = BSTNode(4)\n",
    "self.right = BSTNode(8)\n",
    "self.right.left = BSTNode(5)\n",
    "self.right.right= BSTNode(6)\n",
    "self.PrintTree()\n",
    "print(root.isValidBST(self))"
   ]
  },
  {
   "cell_type": "code",
   "execution_count": null,
   "id": "e724c16f-78c7-4b81-a0b1-877713d91a23",
   "metadata": {},
   "outputs": [],
   "source": []
  }
 ],
 "metadata": {
  "kernelspec": {
   "display_name": "Python 3 (ipykernel)",
   "language": "python",
   "name": "python3"
  },
  "language_info": {
   "codemirror_mode": {
    "name": "ipython",
    "version": 3
   },
   "file_extension": ".py",
   "mimetype": "text/x-python",
   "name": "python",
   "nbconvert_exporter": "python",
   "pygments_lexer": "ipython3",
   "version": "3.12.2"
  }
 },
 "nbformat": 4,
 "nbformat_minor": 5
}

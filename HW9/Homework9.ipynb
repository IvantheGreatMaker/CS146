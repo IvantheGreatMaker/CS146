{
 "cells": [
  {
   "cell_type": "code",
   "execution_count": 1,
   "id": "860cfbcc-1786-4fa4-b763-396443298640",
   "metadata": {},
   "outputs": [
    {
     "name": "stdout",
     "output_type": "stream",
     "text": [
      "Hello World\n"
     ]
    }
   ],
   "source": [
    "print(\"Hello World\")"
   ]
  },
  {
   "cell_type": "code",
   "execution_count": 38,
   "id": "5b6cc224-f157-45a3-9738-89ec1a5eced8",
   "metadata": {},
   "outputs": [],
   "source": [
    " class TreeNode(object):\n",
    "\n",
    "     def __init__(self, val=0, left=None, right=None):\n",
    "\n",
    "         self.val = val\n",
    "\n",
    "         self.left = left\n",
    "\n",
    "         self.right = right\n",
    "         \n",
    "     def LowestCommonAncestor(self, root: 'TreeNode', p: 'TreeNode', q: 'TreeNode') -> 'TreeNode':\n",
    "         if p.val < self.val and q.val < self.val: \n",
    "             return self.left.LowestCommonAncestor(root,p,q)\n",
    "         elif p.val > self.val and q.val > self.val: \n",
    "             return self.right.LowestCommonAncestor(root,p,q)\n",
    "         else:\n",
    "             return self\n",
    "     def PrintTree(self):\n",
    "         if self.left:\n",
    "             self.left.PrintTree()\n",
    "         print( self.val),\n",
    "         if self.right:\n",
    "             self.right.PrintTree()\n",
    "         "
   ]
  },
  {
   "cell_type": "code",
   "execution_count": 36,
   "id": "e8d1a275-4cb1-415c-aee2-79660e595585",
   "metadata": {},
   "outputs": [
    {
     "name": "stdout",
     "output_type": "stream",
     "text": [
      "3\n",
      "1\n",
      "4\n",
      "5\n",
      "8\n",
      "9\n",
      "\n",
      "1\n"
     ]
    }
   ],
   "source": [
    "root=TreeNode(4)\n",
    "root.left = TreeNode(3)\n",
    "root.left.left = TreeNode(1)\n",
    "root.right = TreeNode(8)\n",
    "root.right.left = TreeNode(5)\n",
    "root.right.right= TreeNode(9)\n",
    "p = TreeNode(1)\n",
    "q= TreeNode(3)\n",
    "root.PrintTree()\n",
    "print(\"\")\n",
    "a= root.LowestCommonAncestor(root,p,q)\n",
    "print(a.val)"
   ]
  },
  {
   "cell_type": "code",
   "execution_count": 39,
   "id": "880824c1-c514-4ef4-97b3-7328077acf82",
   "metadata": {},
   "outputs": [
    {
     "name": "stdout",
     "output_type": "stream",
     "text": [
      "1\n",
      "3\n",
      "4\n",
      "5\n",
      "8\n",
      "9\n",
      "\n",
      "4\n"
     ]
    }
   ],
   "source": [
    "self=TreeNode(4)\n",
    "self.left = TreeNode(3)\n",
    "self.left.left = TreeNode(1)\n",
    "self.right = TreeNode(8)\n",
    "self.right.left = TreeNode(5)\n",
    "self.right.right= TreeNode(9)\n",
    "b = TreeNode(1)\n",
    "c= TreeNode(5)\n",
    "self.PrintTree()\n",
    "print(\"\")\n",
    "a= self.LowestCommonAncestor(root,b,c)\n",
    "print(a.val)"
   ]
  },
  {
   "cell_type": "code",
   "execution_count": null,
   "id": "df6fe18d-fcd5-4fb4-b6d2-0ca87cc35f84",
   "metadata": {},
   "outputs": [],
   "source": []
  }
 ],
 "metadata": {
  "kernelspec": {
   "display_name": "Python 3 (ipykernel)",
   "language": "python",
   "name": "python3"
  },
  "language_info": {
   "codemirror_mode": {
    "name": "ipython",
    "version": 3
   },
   "file_extension": ".py",
   "mimetype": "text/x-python",
   "name": "python",
   "nbconvert_exporter": "python",
   "pygments_lexer": "ipython3",
   "version": "3.12.2"
  }
 },
 "nbformat": 4,
 "nbformat_minor": 5
}

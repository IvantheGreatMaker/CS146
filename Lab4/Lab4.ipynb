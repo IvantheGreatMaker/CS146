{
 "cells": [
  {
   "cell_type": "code",
   "execution_count": 58,
   "id": "ee4dff06-43d5-4711-841e-23a06a757c6c",
   "metadata": {},
   "outputs": [],
   "source": [
    "class TreeNode(object):\n",
    "\n",
    "    def __init__(self, val=0, left=None, right=None):\n",
    "\n",
    "         self.val = val\n",
    "\n",
    "         self.left = left\n",
    "\n",
    "         self.right = right\n",
    "\n",
    "    def insert(self, val):\n",
    "        if self.val:\n",
    "            if val < self.val:\n",
    "                if self.left is None:\n",
    "                    self.left = TreeNode(self,val)\n",
    "                else:\n",
    "                    self.left.insert(data)\n",
    "            elif val > self.val:\n",
    "                if self.right is None:\n",
    "                    self.right = TreeNode(self,val)\n",
    "                else:\n",
    "                    insert(self.right,val)\n",
    "            else:\n",
    "                self.val = val\n",
    "    def PrintTree(self):\n",
    "        if self.left:\n",
    "            self.left.PrintTree()\n",
    "        print( self.val),\n",
    "        if self.right:\n",
    "            self.right.PrintTree()\n",
    "\n",
    "def invertTree(self, root):\n",
    "    if(self is None):\n",
    "        return\n",
    "    if(self.left is None and self.right is None):\n",
    "        return\n",
    "    else:\n",
    "    \tnode= self.left\n",
    "    \tself.left = self.right\n",
    "    \tself.right = node\n",
    "    invertTree(self.left, root)\n",
    "    invertTree(self.right, root)\n",
    "\n"
   ]
  },
  {
   "cell_type": "code",
   "execution_count": 76,
   "id": "89f8be9e-1938-41d3-b5ce-8b48714ef9f8",
   "metadata": {
    "scrolled": true
   },
   "outputs": [
    {
     "name": "stdout",
     "output_type": "stream",
     "text": [
      "6\n",
      "8\n",
      "5\n",
      "1\n",
      "4\n",
      "2\n",
      "3\n"
     ]
    }
   ],
   "source": [
    "root=TreeNode(1)\n",
    "root.left = TreeNode(8)\n",
    "root.left.left = TreeNode(6)\n",
    "root.left.right= TreeNode(5)\n",
    "root.right = TreeNode(2)\n",
    "root.right.left = TreeNode(4)\n",
    "root.right.right= TreeNode(3)\n",
    "PrintTree(root)\n"
   ]
  },
  {
   "cell_type": "code",
   "execution_count": 77,
   "id": "4350d150-231d-4433-9a1c-37fd0404bb28",
   "metadata": {},
   "outputs": [],
   "source": [
    "invertTree(root,root)"
   ]
  },
  {
   "cell_type": "code",
   "execution_count": 78,
   "id": "667e5587-cf27-4a7c-b38f-9a302f246cde",
   "metadata": {},
   "outputs": [
    {
     "name": "stdout",
     "output_type": "stream",
     "text": [
      "3\n",
      "2\n",
      "4\n",
      "1\n",
      "5\n",
      "8\n",
      "6\n"
     ]
    }
   ],
   "source": [
    "PrintTree(root)"
   ]
  },
  {
   "cell_type": "code",
   "execution_count": null,
   "id": "4ef48e44-6074-42ac-8d02-bb5a3a9f4908",
   "metadata": {},
   "outputs": [],
   "source": []
  }
 ],
 "metadata": {
  "kernelspec": {
   "display_name": "Python 3 (ipykernel)",
   "language": "python",
   "name": "python3"
  },
  "language_info": {
   "codemirror_mode": {
    "name": "ipython",
    "version": 3
   },
   "file_extension": ".py",
   "mimetype": "text/x-python",
   "name": "python",
   "nbconvert_exporter": "python",
   "pygments_lexer": "ipython3",
   "version": "3.12.2"
  }
 },
 "nbformat": 4,
 "nbformat_minor": 5
}

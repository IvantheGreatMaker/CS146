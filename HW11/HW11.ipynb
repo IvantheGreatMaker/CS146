{
 "cells": [
  {
   "cell_type": "code",
   "execution_count": 17,
   "id": "16441616-6f9f-44b6-9b74-b8edbf6311b3",
   "metadata": {},
   "outputs": [],
   "source": [
    "class Solution:\n",
    "    def floodFill(self, image, sr, sc, color):\n",
    "        if image[sr][sc] == color:\n",
    "            return image\n",
    "\n",
    "        m = len(image)\n",
    "        n = len(image[0])\n",
    "        old_color = image[sr][sc]\n",
    "        queue = [(sr, sc)]\n",
    "\n",
    "        while queue:\n",
    "            a, b = queue.pop(0)\n",
    "            if image[a][b] != old_color:\n",
    "                continue\n",
    "            image[a][b] = color\n",
    "            if 0 <= a+1 < m:\n",
    "                queue.append((a+1, b))\n",
    "            if 0 <= a-1 < m:\n",
    "                queue.append((a-1, b))\n",
    "            if 0 <= b+1 < n:\n",
    "                queue.append((a, b+1))\n",
    "            if 0 <= b-1 < n:\n",
    "                queue.append((a, b-1))\n",
    "\n",
    "        return image\n"
   ]
  },
  {
   "cell_type": "code",
   "execution_count": 18,
   "id": "360100fa-2e09-42cd-8ea6-b05f42db2230",
   "metadata": {},
   "outputs": [
    {
     "name": "stdout",
     "output_type": "stream",
     "text": [
      "222\n",
      "220\n",
      "201\n"
     ]
    }
   ],
   "source": [
    "bob = Solution()\n",
    "image = [[1,1,1],[1,1,0],[1,0,1]]\n",
    "sr = 1 \n",
    "sc = 1\n",
    "color = 2\n",
    "output = bob.floodFill(image, sr, sc, color)\n",
    "for x in range(len(image)):\n",
    "    for y in range(len(image[0])):\n",
    "        print(image[x][y], end=\"\")\n",
    "    print()"
   ]
  },
  {
   "cell_type": "code",
   "execution_count": 19,
   "id": "daafe12f-2fe9-4c12-a1cb-ccd0b03d7eac",
   "metadata": {},
   "outputs": [
    {
     "name": "stdout",
     "output_type": "stream",
     "text": [
      "000\n",
      "000\n"
     ]
    }
   ],
   "source": [
    "jim = Solution()\n",
    "image = [[0,0,0],[0,0,0]] \n",
    "sr = 0\n",
    "sc = 0\n",
    "color = 0\n",
    "output = jim.floodFill(image, sr, sc, color)\n",
    "for x in range(len(image)):\n",
    "    for y in range(len(image[0])):\n",
    "        print(image[x][y], end=\"\")\n",
    "    print()"
   ]
  },
  {
   "cell_type": "code",
   "execution_count": null,
   "id": "f264f60c-88b2-4c46-852c-84a03681f92d",
   "metadata": {},
   "outputs": [],
   "source": []
  }
 ],
 "metadata": {
  "kernelspec": {
   "display_name": "Python 3 (ipykernel)",
   "language": "python",
   "name": "python3"
  },
  "language_info": {
   "codemirror_mode": {
    "name": "ipython",
    "version": 3
   },
   "file_extension": ".py",
   "mimetype": "text/x-python",
   "name": "python",
   "nbconvert_exporter": "python",
   "pygments_lexer": "ipython3",
   "version": "3.12.2"
  }
 },
 "nbformat": 4,
 "nbformat_minor": 5
}

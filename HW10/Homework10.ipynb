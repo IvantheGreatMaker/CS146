{
 "cells": [
  {
   "cell_type": "code",
   "execution_count": 22,
   "id": "4a02b40a-7647-4e31-b142-e78d51c7147d",
   "metadata": {
    "scrolled": true
   },
   "outputs": [],
   "source": [
    "from collections import deque\n",
    "class TreeNode(object):\n",
    "     def __init__(self, val=0, left=None, right=None):\n",
    "\n",
    "         self.val = val\n",
    "\n",
    "         self.left = left\n",
    "\n",
    "         self.right = right\n",
    "\n",
    "     def levelOrder(self, root) -> []:\n",
    "\n",
    "         if root is None:\n",
    "             return\n",
    "         orderList = []\n",
    "         queue = deque([root])\n",
    "\n",
    "         while(len(queue) > 0):\n",
    "             level_size = len(queue)\n",
    "             level_values = []\n",
    "\n",
    "             for i in range(level_size):\n",
    "                 node=queue.popleft()\n",
    "                 level_values.append(node.val)\n",
    "                 \n",
    "                 if node.left is not None:\n",
    "                     queue.append(node.left)\n",
    "                     \n",
    "                 if node.right is not None:\n",
    "                     queue.append(node.right)\n",
    "             orderList.append(level_values)\n",
    "            \n",
    "         return orderList\n",
    "            \n",
    "\n",
    "         \n",
    "         \n",
    "        "
   ]
  },
  {
   "cell_type": "code",
   "execution_count": 26,
   "id": "d1cc777a-bca8-4b2e-95d0-87e1dbab74ce",
   "metadata": {},
   "outputs": [
    {
     "name": "stdout",
     "output_type": "stream",
     "text": [
      "[4]\n",
      "[3, 8]\n",
      "[1, 5, 9]\n"
     ]
    }
   ],
   "source": [
    "root = TreeNode(4)\n",
    "root.left = TreeNode(3);\n",
    "root.right = TreeNode(8);\n",
    "root.left.left = TreeNode(1);\n",
    "root.right.left = TreeNode(5);\n",
    "root.right.right = TreeNode(9);\n",
    "\n",
    "Listing = root.levelOrder(root)\n",
    "for x in Listing:\n",
    "    print(x)"
   ]
  },
  {
   "cell_type": "code",
   "execution_count": null,
   "id": "9178937e-f779-4c13-bd28-aa78d3a78170",
   "metadata": {},
   "outputs": [],
   "source": []
  }
 ],
 "metadata": {
  "kernelspec": {
   "display_name": "Python 3 (ipykernel)",
   "language": "python",
   "name": "python3"
  },
  "language_info": {
   "codemirror_mode": {
    "name": "ipython",
    "version": 3
   },
   "file_extension": ".py",
   "mimetype": "text/x-python",
   "name": "python",
   "nbconvert_exporter": "python",
   "pygments_lexer": "ipython3",
   "version": "3.12.2"
  }
 },
 "nbformat": 4,
 "nbformat_minor": 5
}

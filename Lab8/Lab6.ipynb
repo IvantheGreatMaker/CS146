{
 "cells": [
  {
   "cell_type": "code",
   "execution_count": 9,
   "id": "a11d6cb2-315f-458b-b7f7-56a11f47503a",
   "metadata": {},
   "outputs": [],
   "source": [
    "import collections\n",
    "\n",
    "def canFinish(numCourses, prerequisites):\n",
    "\n",
    "\n",
    "    alist = collections.defaultdict(list)\n",
    "\n",
    "    \n",
    "    order = [0]*numCourses\n",
    "\n",
    "    for i, j in prerequisites:\n",
    "        alist[j].append(i)\n",
    "        order[i] += 1\n",
    "    q = collections.deque()\n",
    "\n",
    "\n",
    "    for i in range(len(order)):\n",
    "        if order[i] == 0:\n",
    "            q.append(i)\n",
    "\n",
    "    count = 0\n",
    "\n",
    "    while q:\n",
    "        current = q.popleft()\n",
    "        count += 1\n",
    "        for i in alist[current]:\n",
    "            order[i] -= 1\n",
    "            if order[i] == 0:\n",
    "                q.append(i)\n",
    "    return count == numCourses"
   ]
  },
  {
   "cell_type": "code",
   "execution_count": 7,
   "id": "67242353-c0ca-4c51-bbaa-5575e03b4558",
   "metadata": {},
   "outputs": [
    {
     "data": {
      "text/plain": [
       "True"
      ]
     },
     "execution_count": 7,
     "metadata": {},
     "output_type": "execute_result"
    }
   ],
   "source": [
    "canFinish(2,[[1,0]])"
   ]
  },
  {
   "cell_type": "code",
   "execution_count": 8,
   "id": "77bd8dc6-5045-4c4a-acdd-f1ab62fffe2f",
   "metadata": {},
   "outputs": [
    {
     "data": {
      "text/plain": [
       "False"
      ]
     },
     "execution_count": 8,
     "metadata": {},
     "output_type": "execute_result"
    }
   ],
   "source": [
    "canFinish(2,[[1,0],[0,1]])"
   ]
  },
  {
   "cell_type": "code",
   "execution_count": null,
   "id": "928d6281-2286-474a-8a44-276d7dbeabed",
   "metadata": {},
   "outputs": [],
   "source": []
  }
 ],
 "metadata": {
  "kernelspec": {
   "display_name": "Python 3 (ipykernel)",
   "language": "python",
   "name": "python3"
  },
  "language_info": {
   "codemirror_mode": {
    "name": "ipython",
    "version": 3
   },
   "file_extension": ".py",
   "mimetype": "text/x-python",
   "name": "python",
   "nbconvert_exporter": "python",
   "pygments_lexer": "ipython3",
   "version": "3.12.2"
  }
 },
 "nbformat": 4,
 "nbformat_minor": 5
}

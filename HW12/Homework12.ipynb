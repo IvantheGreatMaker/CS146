{
 "cells": [
  {
   "cell_type": "code",
   "execution_count": 34,
   "id": "3a59b965-11ec-4703-b107-0f7ca5f8f603",
   "metadata": {},
   "outputs": [],
   "source": [
    "from typing import List\n",
    "class Graph:\n",
    "    def __init__(self, vertices):\n",
    "        self.V = vertices\n",
    "        self.graph = []\n",
    "\n",
    "    def find(self, parent, i):\n",
    "        if parent[i] == i:\n",
    "            return i\n",
    "        return self.find(parent, parent[i])\n",
    "\n",
    "    def apply_union(self, parent, rank, x, y):\n",
    "        xroot = self.find(parent, x)\n",
    "        yroot = self.find(parent, y)\n",
    "        if rank[xroot] < rank[yroot]:\n",
    "            parent[xroot] = yroot\n",
    "        elif rank[xroot] > rank[yroot]:\n",
    "            parent[yroot] = xroot\n",
    "        else:\n",
    "            parent[yroot] = xroot\n",
    "            rank[xroot] += 1\n",
    "\n",
    "    def minCostToSupplyWater(self, n: int, wells: List[int], pipes: List[List[int]]) -> int:\n",
    "        g = Graph(n+1)\n",
    "        self.graph = []\n",
    "        for sublist in pipes: \n",
    "            self.graph.append(sublist) \n",
    "        for i, y in enumerate(wells):\n",
    "            self.graph.append([n+1,i+1,y])\n",
    "        \n",
    "        result = []\n",
    "        i, e = 0, 0\n",
    "        self.graph = sorted(self.graph, key=lambda item: item[2])\n",
    "        parent = []\n",
    "        rank = []\n",
    "        cost = 0\n",
    "        for node in range(self.V):\n",
    "            parent.append(node)\n",
    "            rank.append(0)\n",
    "        while e < self.V - 1:\n",
    "            u, v, w = self.graph[i]\n",
    "            i = i + 1\n",
    "            x = self.find(parent, u)\n",
    "            y = self.find(parent, v)\n",
    "            if x!= y:\n",
    "                e = e + 1\n",
    "                result.append([u, v, w])\n",
    "                cost += w\n",
    "                self.apply_union(parent, rank, x, y)\n",
    "        \n",
    "        for u, v, weight in result:\n",
    "            print(\"%d - %d: %d\" % (u, v, weight))\n",
    "        return cost"
   ]
  },
  {
   "cell_type": "code",
   "execution_count": 36,
   "id": "2c31568e-9531-434e-93b1-0721a5396d06",
   "metadata": {
    "scrolled": true
   },
   "outputs": [
    {
     "data": {
      "text/plain": [
       "0"
      ]
     },
     "execution_count": 36,
     "metadata": {},
     "output_type": "execute_result"
    }
   ],
   "source": [
    "b = Graph(1)\n",
    "b.minCostToSupplyWater( 2, [1,1], [[1,2,1],[1,2,2]])"
   ]
  },
  {
   "cell_type": "code",
   "execution_count": null,
   "id": "31d6c390-7182-4eb4-8b9c-b64c4e44b98d",
   "metadata": {},
   "outputs": [],
   "source": []
  }
 ],
 "metadata": {
  "kernelspec": {
   "display_name": "Python 3 (ipykernel)",
   "language": "python",
   "name": "python3"
  },
  "language_info": {
   "codemirror_mode": {
    "name": "ipython",
    "version": 3
   },
   "file_extension": ".py",
   "mimetype": "text/x-python",
   "name": "python",
   "nbconvert_exporter": "python",
   "pygments_lexer": "ipython3",
   "version": "3.12.2"
  }
 },
 "nbformat": 4,
 "nbformat_minor": 5
}
